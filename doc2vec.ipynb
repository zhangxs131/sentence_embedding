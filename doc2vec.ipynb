{
  "nbformat": 4,
  "nbformat_minor": 0,
  "metadata": {
    "colab": {
      "name": "doc2vec.ipynb",
      "provenance": [],
      "authorship_tag": "ABX9TyMuK5FaxFuKNn6pVuhtj5kD",
      "include_colab_link": true
    },
    "kernelspec": {
      "name": "python3",
      "display_name": "Python 3"
    },
    "language_info": {
      "name": "python"
    }
  },
  "cells": [
    {
      "cell_type": "markdown",
      "metadata": {
        "id": "view-in-github",
        "colab_type": "text"
      },
      "source": [
        "<a href=\"https://colab.research.google.com/github/zhangxs131/sentence_embedding/blob/main/doc2vec.ipynb\" target=\"_parent\"><img src=\"https://colab.research.google.com/assets/colab-badge.svg\" alt=\"Open In Colab\"/></a>"
      ]
    },
    {
      "cell_type": "markdown",
      "source": [
        "##使用Gensim库来尝试doc2vec生成句向量"
      ],
      "metadata": {
        "id": "ORHLFxjuO__e"
      }
    },
    {
      "cell_type": "code",
      "source": [
        "from gensim.models.doc2vec import Doc2Vec,TaggedDocument\n",
        "from nltk.tokenize import word_tokenize\n",
        "import nltk\n",
        "\n",
        "nltk.download('punkt')\n",
        "\n",
        "data=['I am a good man',\n",
        "      'I am a good boy',\n",
        "      'what are you fucking doing .?']\n",
        "\n",
        "data_ch=['我 总 是 这 样 做 。',\n",
        "         '你 是 不 是 傻 呀 。',\n",
        "         '要 不 要 去 网 吧 打 游 戏 捏 ？',\n",
        "         '这 就 是 石 纪 元 。']\n",
        "\n",
        "tagged_data=[TaggedDocument(words=word_tokenize(d.lower()),tags=[str(i)]) for i ,d in enumerate(data_ch)]\n",
        "\n",
        "\n",
        "#_______________trainging_______________________\n",
        "\n",
        "max_epochs=100\n",
        "vec_size=20\n",
        "alpha=0.025\n",
        "\n",
        "model=Doc2Vec(\n",
        "    size=vec_size,\n",
        "    alpha=alpha,\n",
        "    min_alpha=0.00025,\n",
        "    min_count=1,\n",
        "    dm=1  # means PV-DM mode\n",
        ")\n",
        "\n",
        "\n",
        "model.build_vocab(tagged_data)\n",
        "\n",
        "for epoch in range(max_epochs):\n",
        "\n",
        "  if epoch%10==0:\n",
        "    print('iteration {}'.format(epoch))\n",
        "  model.train(tagged_data,total_examples=model.corpus_count,epochs=model.iter)\n",
        "  model.alpha=0.0002\n",
        "  model.min_alpha=model.alpha\n",
        "\n",
        "\n",
        "model.save('d2v.model')\n",
        "print('Model Saved')"
      ],
      "metadata": {
        "colab": {
          "base_uri": "https://localhost:8080/"
        },
        "id": "UOnRicdWPLb8",
        "outputId": "a3d551c4-de32-46ac-b184-83ec12f10612"
      },
      "execution_count": 6,
      "outputs": [
        {
          "output_type": "stream",
          "name": "stderr",
          "text": [
            "[nltk_data] Downloading package punkt to /root/nltk_data...\n",
            "[nltk_data]   Package punkt is already up-to-date!\n",
            "/usr/local/lib/python3.7/dist-packages/gensim/models/doc2vec.py:570: UserWarning: The parameter `size` is deprecated, will be removed in 4.0.0, use `vector_size` instead.\n",
            "  warnings.warn(\"The parameter `size` is deprecated, will be removed in 4.0.0, use `vector_size` instead.\")\n",
            "/usr/local/lib/python3.7/dist-packages/ipykernel_launcher.py:40: DeprecationWarning: Call to deprecated `iter` (Attribute will be removed in 4.0.0, use self.epochs instead).\n"
          ]
        },
        {
          "output_type": "stream",
          "name": "stdout",
          "text": [
            "iteration 0\n",
            "iteration 10\n",
            "iteration 20\n",
            "iteration 30\n",
            "iteration 40\n",
            "iteration 50\n",
            "iteration 60\n",
            "iteration 70\n",
            "iteration 80\n",
            "iteration 90\n",
            "Model Saved\n"
          ]
        }
      ]
    },
    {
      "cell_type": "code",
      "source": [
        "#play the model\n",
        "\n",
        "from gensim.models.doc2vec import Doc2Vec\n",
        "\n",
        "model=Doc2Vec.load('d2v.model')\n",
        "test_data=word_tokenize('I am a good girl'.lower())\n",
        "v1=model.infer_vector(test_data)\n",
        "print('V1:',v1)\n",
        "\n",
        "#计算相似度\n",
        "similar_doc=model.docvecs.most_similar('0')\n",
        "print(similar_doc)\n",
        "\n",
        "#输出向量\n",
        "print(model.docvecs['1'])"
      ],
      "metadata": {
        "colab": {
          "base_uri": "https://localhost:8080/"
        },
        "id": "kG31yNoSRa07",
        "outputId": "841edb5b-56ea-49ed-8ba7-3d43534cb69b"
      },
      "execution_count": 7,
      "outputs": [
        {
          "output_type": "stream",
          "name": "stdout",
          "text": [
            "V1: [ 0.00652963  0.0009134  -0.02039766 -0.01086669 -0.01107547  0.02240011\n",
            "  0.00413352  0.02461015 -0.00344326  0.00051115  0.00436322  0.01159172\n",
            "  0.01368463  0.02069945  0.01822783  0.01951347  0.01505768  0.01115366\n",
            " -0.01872313  0.01697353]\n",
            "[('2', 0.4504932463169098), ('1', 0.14568422734737396), ('3', -0.041476547718048096)]\n",
            "[-0.01194893  0.01662688  0.00537922  0.00618494 -0.01927297 -0.00413647\n",
            "  0.01217747 -0.00087813 -0.01072842 -0.00486424  0.01943208  0.02138057\n",
            "  0.01277274 -0.015937    0.01207781 -0.01497533 -0.00500355  0.01563691\n",
            "  0.00968179 -0.02255602]\n"
          ]
        }
      ]
    }
  ]
}